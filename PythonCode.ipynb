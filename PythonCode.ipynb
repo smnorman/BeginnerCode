{
  "cells": [
    {
      "metadata": {
        "trusted": true
      },
      "cell_type": "code",
      "source": "todays_date= \"September, 10 2019\"\n\nprint(todays_date)\n",
      "execution_count": 3,
      "outputs": [
        {
          "output_type": "stream",
          "text": "September, 10 2019\n",
          "name": "stdout"
        }
      ]
    },
    {
      "metadata": {
        "trusted": true
      },
      "cell_type": "code",
      "source": "todays_date= \"09.10.2019\"\n\nprint(todays_date)\n",
      "execution_count": 9,
      "outputs": [
        {
          "output_type": "stream",
          "text": "09.10.2019\n",
          "name": "stdout"
        }
      ]
    },
    {
      "metadata": {
        "trusted": true
      },
      "cell_type": "code",
      "source": "a_list= ['chicken, chitlins, bagels, cranberries, french fries']\n\nprint(a_list) ",
      "execution_count": 12,
      "outputs": [
        {
          "output_type": "stream",
          "text": "['chicken, chitlins, bagels, cranberries, french fries']\n",
          "name": "stdout"
        }
      ]
    }
  ],
  "metadata": {
    "kernelspec": {
      "name": "python36",
      "display_name": "Python 3.6",
      "language": "python"
    },
    "language_info": {
      "mimetype": "text/x-python",
      "nbconvert_exporter": "python",
      "name": "python",
      "pygments_lexer": "ipython3",
      "version": "3.6.6",
      "file_extension": ".py",
      "codemirror_mode": {
        "version": 3,
        "name": "ipython"
      }
    }
  },
  "nbformat": 4,
  "nbformat_minor": 2
}